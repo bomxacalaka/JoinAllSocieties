{
 "cells": [
  {
   "cell_type": "code",
   "execution_count": null,
   "metadata": {},
   "outputs": [],
   "source": [
    "from selenium import webdriver\n",
    "from selenium.webdriver.common.by import By\n",
    "from selenium.webdriver.support.ui import WebDriverWait\n",
    "from selenium.webdriver.support import expected_conditions as EC\n",
    "import os\n",
    "\n",
    "# Replace 'PATH_TO_CHROMEDRIVER' with the actual path to your downloaded chromedriver executable\n",
    "driver_path = 'geckodriver.exe'\n",
    "\n",
    "# Create ChromeOptions object and specify the driver path\n",
    "chrome_options = webdriver.ChromeOptions()\n",
    "chrome_options.binary_location = driver_path\n",
    "\n",
    "# Initialize the Chrome browser with the specified options\n",
    "driver = webdriver.Chrome(options=chrome_options)\n",
    "\n",
    "# Replace 'URL_OF_WEBSITE' with the URL of the website you want to visit\n",
    "driver.get('https://www.wolvesunion.org/societies/')\n",
    "\n",
    "# <a id=\"ctl00_ctl08_lnkLogin\"\n",
    "button = driver.find_element(By.ID, \"ctl00_ctl08_lnkLogin\")\n",
    "button.click()\n",
    "button = driver.find_element(By.ID, \"ctl00_ssologincontrol_hlExtLogin\")\n",
    "button.click()\n",
    "email = os.environ['uniid']\n",
    "element = driver.find_element(By.ID, \"userNameInput\")\n",
    "element.send_keys(email)\n",
    "password = os.environ['unipass']\n",
    "element = driver.find_element(By.ID, \"passwordInput\")\n",
    "element.send_keys(password)\n",
    "button = driver.find_element(By.ID, \"submitButton\")\n",
    "button.click()\n",
    "# class=\"societyInner\"\n",
    "societies = driver.find_elements(By.CLASS_NAME, \"societyInner\")\n",
    "for i in range(len(societies)):\n",
    "    societies = driver.find_elements(By.CLASS_NAME, \"societyInner\")\n",
    "    societies[i].click()\n",
    "    try:\n",
    "        # id=\"ctl00_Main_join_rptJoin_ctl01_btnAdd\"\n",
    "        print(\"trying\")\n",
    "        button = driver.find_element(By.ID, \"ctl00_Main_join_rptJoin_ctl01_btnAdd\")\n",
    "        button.click()\n",
    "        # go to https://www.wolvesunion.org/societies/\n",
    "        driver.get(\"https://www.wolvesunion.org/societies/\")\n",
    "        print(\"Joined\")\n",
    "    except:\n",
    "        print(\"Already Joined\")\n",
    "        driver.get(\"https://www.wolvesunion.org/societies/\")\n",
    "\n",
    "    print(f\"Attempted to join {i} societies\")"
   ]
  },
  {
   "cell_type": "code",
   "execution_count": null,
   "metadata": {},
   "outputs": [],
   "source": [
    "societies = driver.find_elements(By.CLASS_NAME, \"societyInner\")\n",
    "societies[1].click()"
   ]
  },
  {
   "cell_type": "code",
   "execution_count": null,
   "metadata": {},
   "outputs": [],
   "source": [
    "# id=\"ctl00_Main_join_rptJoin_ctl01_btnAdd\"\n",
    "button = driver.find_element(By.ID, \"ctl00_Main_join_rptJoin_ctl01_btnAdd\")\n",
    "button.click()"
   ]
  },
  {
   "cell_type": "code",
   "execution_count": null,
   "metadata": {},
   "outputs": [],
   "source": [
    "# go to https://www.wolvesunion.org/societies/\n",
    "driver.get(\"https://www.wolvesunion.org/societies/\")"
   ]
  }
 ],
 "metadata": {
  "kernelspec": {
   "display_name": "joinsocs",
   "language": "python",
   "name": "python3"
  },
  "language_info": {
   "codemirror_mode": {
    "name": "ipython",
    "version": 3
   },
   "file_extension": ".py",
   "mimetype": "text/x-python",
   "name": "python",
   "nbconvert_exporter": "python",
   "pygments_lexer": "ipython3",
   "version": "3.11.4"
  },
  "orig_nbformat": 4
 },
 "nbformat": 4,
 "nbformat_minor": 2
}
